{
 "cells": [
  {
   "cell_type": "markdown",
   "metadata": {},
   "source": [
    "---\n",
    "\n",
    "# Assignment 3\n",
    "\n",
    "```\n",
    "X1 ------\\\n",
    "          \\\n",
    "          (P) ---- (P) ---- (T)\n",
    "          /\n",
    "X2 ------/\n",
    "         \n",
    "```\n",
    "\n",
    "1. Create a two layer neural network with one perceptron in each layer (see Diagram above). Write a validation code that does along with your implementation. The goal of network is to optimize the two perceptrons to produce the output target `T` given the inputs `X1` and `X2`. Assume the output `O` of each perceptron is\n",
    "\n",
    "$$ O = \\sigma{(w1*x1 + w2*x2 + b)} $$ where\n",
    "\n",
    "$$\\sigma(x) = \\frac{1}{1+e^{-x}}$$\n",
    "\n",
    "Feel free to change the loss function if you like.\n",
    "\n"
   ]
  },
  {
   "cell_type": "code",
   "execution_count": 1,
   "metadata": {},
   "outputs": [],
   "source": [
    "import numpy as np"
   ]
  },
  {
   "cell_type": "code",
   "execution_count": 2,
   "metadata": {},
   "outputs": [],
   "source": [
    "class Node(object):\n",
    "    \"\"\"\n",
    "    Base object for all inputs and outputs.\n",
    "    \"\"\"\n",
    "    def __init__(self, value, grad):\n",
    "        self.value = value\n",
    "        self.gradient = grad"
   ]
  },
  {
   "cell_type": "code",
   "execution_count": 3,
   "metadata": {},
   "outputs": [],
   "source": [
    "class MultiplyNode(object):\n",
    "    \"\"\"\n",
    "    Multiplies two inputs\n",
    "    \"\"\"\n",
    "    def forward(self, *args):\n",
    "        self.inputs = []\n",
    "        \n",
    "        for i in args:\n",
    "            self.inputs.append(i)\n",
    "        \n",
    "        self.output = Node(self.inputs[0].value * self.inputs[1].value, 0)\n",
    "        return self.output\n",
    "    \n",
    "    def backward(self):\n",
    "        self.inputs[0].gradient = self.inputs[1].value * self.output.gradient\n",
    "        self.inputs[1].gradient = self.inputs[0].value * self.output.gradient"
   ]
  },
  {
   "cell_type": "code",
   "execution_count": 4,
   "metadata": {},
   "outputs": [],
   "source": [
    "class AddNode(object):    \n",
    "    \"\"\"\n",
    "    Adds two inputs x1 and x2.\n",
    "    \"\"\"\n",
    "    def forward(self, nodes):\n",
    "        self.inputs = nodes\n",
    "             \n",
    "        self.output = Node(self.inputs[0].value + self.inputs[1].value, 0)\n",
    "        return self.output\n",
    "    \n",
    "    def backward(self):\n",
    "        self.inputs[0].gradient = 1 * self.output.gradient\n",
    "        self.inputs[1].gradient = 1 * self.output.gradient"
   ]
  },
  {
   "cell_type": "code",
   "execution_count": 5,
   "metadata": {},
   "outputs": [],
   "source": [
    "class SigmoidNode(object):\n",
    "    \"\"\"\n",
    "    Adds a sigmoid non-linearity to a single input\n",
    "    \"\"\"\n",
    "    def forward(self, x):\n",
    "        self.x = x\n",
    "        self.output = Node(1/(1 + np.exp(-1 * self.x.value)), 0.0)\n",
    "        return self.output\n",
    "        \n",
    "    def backward(self):\n",
    "        s = 1/(1 + np.exp(-1 * self.x.value))\n",
    "        self.x.gradient = (s * (1 - s)) * self.output.gradient"
   ]
  },
  {
   "cell_type": "code",
   "execution_count": 6,
   "metadata": {},
   "outputs": [],
   "source": [
    "class Perceptron(object):\n",
    "    ### Consider first two inputs 0 if not provided\n",
    "    def __init__(self, alpha =0.01,x1=0,x2=0, **kwargs):\n",
    "        ### Hyper parameters\n",
    "        self.alpha = alpha\n",
    "        \n",
    "        ### Set inputs\n",
    "        self.inputs = [Node(x1,0.0),Node(x2,0.0)]\n",
    "        for i in kwargs:\n",
    "            input = Node(kwargs[i],0.0)\n",
    "            self.inputs.append(input)\n",
    "        \n",
    "        ### Initializing weights to a random float between -1 and 1\n",
    "        self.weights = []\n",
    "        for i in self.inputs:\n",
    "            weight = Node(np.random.uniform(-1,1),0.0)\n",
    "            self.weights.append(weight) \n",
    "        \n",
    "        ### Initialize bias (just one for now) to a random float between -1 and 1\n",
    "        self.bias = Node(np.random.uniform(-1,1),0.0)\n",
    "        \n",
    "        ### Initialize Operators\n",
    "        self.initialize_operators()\n",
    "        \n",
    "    def initialize_operators(self):\n",
    "        ### Multiply inputs with weights operator\n",
    "        self.weighted_input_mult_op =[]\n",
    "        for i in range(len(self.inputs)):\n",
    "            self.weighted_input_mult_op.append(MultiplyNode())\n",
    "            \n",
    "        ### Add all weighted inputs operator\n",
    "        self.sum_of_all_weighted_inputs_op = AddNode()\n",
    "        \n",
    "        ### Add bias to the sum of all weighted inputs operator\n",
    "        self.sum_of_weighted_inputs_and_bias_op = AddNode()\n",
    "        \n",
    "        ### Sigmoid\n",
    "        self.sigmoid = SigmoidNode()\n",
    "        \n",
    "        \n",
    "    def forward(self):\n",
    "        ### Multiply inputs with weights\n",
    "        self.weighted_inputs = []\n",
    "        for i in range(len(self.weighted_input_mult_op)):            \n",
    "            input_mul_weight = self.weighted_input_mult_op[i].forward(self.inputs[i],self.weights[i])\n",
    "            self.weighted_inputs.append(input_mul_weight)\n",
    "               \n",
    "        \n",
    "        ### Add all weighted inputs\n",
    "        self.sum_of_all_weighted_inputs = self.sum_of_all_weighted_inputs_op.forward(self.weighted_inputs)\n",
    "            \n",
    "        \n",
    "        ### Add bias to the sum of all weighted inputs\n",
    "        self.sum_of_weighted_inputs_and_bias = self.sum_of_weighted_inputs_and_bias_op.forward([self.sum_of_all_weighted_inputs,self.bias])\n",
    "        \n",
    "        self.sigmoid.forward(self.sum_of_weighted_inputs_and_bias)\n",
    "        \n",
    "    \n",
    "    def backward(self):\n",
    "        self.sigmoid.backward()\n",
    "        self.sum_of_all_weighted_inputs_op.backward()\n",
    "        self.sum_of_weighted_inputs_and_bias_op.backward()\n",
    "        for i in range(len(self.weighted_inputs)):\n",
    "            self.weighted_input_mult_op[i].backward()\n",
    "            \n",
    "    def update(self):\n",
    "        for i in range(len(self.weights)):\n",
    "            self.weights[i].value -= self.alpha * self.weights[i].gradient\n",
    "            \n",
    "        self.bias.value -= self.alpha * self.bias.gradient"
   ]
  },
  {
   "cell_type": "code",
   "execution_count": 7,
   "metadata": {},
   "outputs": [
    {
     "data": {
      "text/plain": [
       "0.7839999999999985"
      ]
     },
     "execution_count": 7,
     "metadata": {},
     "output_type": "execute_result"
    }
   ],
   "source": [
    "p0 = Perceptron(alpha = 0.2, x1 =3,x2=5)\n",
    "p1 = Perceptron(alpha = 0.2)\n",
    "# number of iterations\n",
    "N = 100000\n",
    "# expected output \n",
    "target = 0.784\n",
    "\n",
    "for i in range(N):\n",
    "    p0.forward()\n",
    "   \n",
    "    p1.inputs.append(Node(p0.sigmoid.output.value,0.0))\n",
    "    p1.forward()\n",
    "    p1.sigmoid.output.gradient = -2 * (target - p1.sigmoid.output.value)\n",
    "    p1.backward()\n",
    "    p1.update()\n",
    "\n",
    "    p0.sigmoid.output.gradient = -2 * (target - p0.sigmoid.output.value)\n",
    "    p0.backward()\n",
    "    p0.update()\n",
    "\n",
    "p1.sigmoid.output.value"
   ]
  },
  {
   "cell_type": "code",
   "execution_count": 8,
   "metadata": {},
   "outputs": [
    {
     "data": {
      "text/plain": [
       "0.2350000000000015"
      ]
     },
     "execution_count": 8,
     "metadata": {},
     "output_type": "execute_result"
    }
   ],
   "source": [
    "p0 = Perceptron(alpha = 0.2, x1 =3,x2=5)\n",
    "p1 = Perceptron(alpha = 0.2, x1=8,x2=1,x3=9)\n",
    "p2 = Perceptron(alpha = 0.2)\n",
    "# number of iterations\n",
    "N = 100000\n",
    "# expected output \n",
    "target = 0.235\n",
    "\n",
    "for i in range(N):\n",
    "    p0.forward()\n",
    "    \n",
    "    p1.forward()\n",
    "    p2.inputs.append(Node(p0.sigmoid.output.value,0.0))\n",
    "    p2.inputs.append(Node(p1.sigmoid.output.value,0.0))\n",
    "    p2.forward()\n",
    "    p2.sigmoid.output.gradient = -2 * (target - p2.sigmoid.output.value)\n",
    "    \n",
    "    p2.backward()\n",
    "    p2.update()\n",
    "\n",
    "    p0.sigmoid.output.gradient = -2 * (target - p0.sigmoid.output.value)\n",
    "    p1.sigmoid.output.gradient = -2 * (target - p1.sigmoid.output.value)\n",
    "    p0.backward()\n",
    "    p1.backward()\n",
    "    p0.update()\n",
    "    p1.update()\n",
    "\n",
    "p2.sigmoid.output.value"
   ]
  }
 ],
 "metadata": {
  "kernelspec": {
   "display_name": "Python 2",
   "language": "python",
   "name": "python2"
  },
  "language_info": {
   "codemirror_mode": {
    "name": "ipython",
    "version": 2
   },
   "file_extension": ".py",
   "mimetype": "text/x-python",
   "name": "python",
   "nbconvert_exporter": "python",
   "pygments_lexer": "ipython2",
   "version": "2.7.12"
  }
 },
 "nbformat": 4,
 "nbformat_minor": 2
}
